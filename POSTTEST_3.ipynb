{
 "cells": [
  {
   "cell_type": "code",
   "execution_count": 13,
   "id": "2718eb82-3a6b-402a-8a24-3ea2bbf6ce43",
   "metadata": {},
   "outputs": [
    {
     "name": "stdout",
     "output_type": "stream",
     "text": [
      "DONE\n"
     ]
    }
   ],
   "source": [
    "# Untuk manipulasi & analisis data\n",
    "import pandas as pd\n",
    "import numpy as np\n",
    "\n",
    "# Untuk visualisasi data\n",
    "import matplotlib.pyplot as plt\n",
    "import seaborn as sns\n",
    "\n",
    "# Untuk preprocessing data\n",
    "from sklearn.model_selection import train_test_split\n",
    "from sklearn.preprocessing import StandardScaler\n",
    "\n",
    "# Untuk membangun model Deep Learning\n",
    "import tensorflow as tf\n",
    "from tensorflow import keras\n",
    "from keras.models import Sequential\n",
    "from keras.layers import Dense\n",
    "\n",
    "# Untuk mengabaikan pesan peringatan yang tidak krusial\n",
    "import warnings\n",
    "warnings.filterwarnings('ignore')\n",
    "\n",
    "print(\"DONE\")"
   ]
  },
  {
   "cell_type": "code",
   "execution_count": 14,
   "id": "b2a26a00-405c-46a8-8a94-6df2fce32dec",
   "metadata": {},
   "outputs": [
    {
     "name": "stdout",
     "output_type": "stream",
     "text": [
      "Dataset 'student-por.csv' berhasil dimuat.\n",
      "  school sex  age address famsize Pstatus  Medu  Fedu     Mjob      Fjob  ...  \\\n",
      "0     GP   F   18       U     GT3       A     4     4  at_home   teacher  ...   \n",
      "1     GP   F   17       U     GT3       T     1     1  at_home     other  ...   \n",
      "2     GP   F   15       U     LE3       T     1     1  at_home     other  ...   \n",
      "3     GP   F   15       U     GT3       T     4     2   health  services  ...   \n",
      "4     GP   F   16       U     GT3       T     3     3    other     other  ...   \n",
      "\n",
      "  famrel freetime  goout  Dalc  Walc health absences  G1  G2  G3  \n",
      "0      4        3      4     1     1      3        4   0  11  11  \n",
      "1      5        3      3     1     1      3        2   9  11  11  \n",
      "2      4        3      2     2     3      3        6  12  13  12  \n",
      "3      3        2      2     1     1      5        0  14  14  14  \n",
      "4      4        3      2     1     2      5        0  11  13  13  \n",
      "\n",
      "[5 rows x 33 columns]\n"
     ]
    }
   ],
   "source": [
    "# Tentukan path ke file Anda\n",
    "file_path = 'student-por.csv'\n",
    "\n",
    "try:\n",
    "    df = pd.read_csv(file_path, sep=';')\n",
    "    print(f\"Dataset '{file_path}' berhasil dimuat.\")\n",
    "    print(df.head())\n",
    "except FileNotFoundError:\n",
    "    print(f\"ERROR File '{file_path}' tidak ditemukan.\")"
   ]
  },
  {
   "cell_type": "markdown",
   "id": "44b275ad-191a-4fbb-be81-021f70f52ed1",
   "metadata": {},
   "source": [
    "Nah, di dunia AI ada istilah \"Garbage In, Garbage Out\", intinya kalo data kita jelek, modelnya juga bakal jelek. Makanya di sel ketiga kita fokus data cleaning. Pertama, kita bikin salinan datanya pake .copy() biar data aslinya aman. Dataset ini kebetulan udah bersih dari data kosong atau duplikat, tapi kita tetep fokus ke outlier di kolom absences. Ada data siswa yang absennya banyak banget, ini bisa ngerusak model. Jadi, kita pake metode IQR buat nentuin batas wajar jumlah absen, terus nilai-nilai yang kelewat batas kita \"teken\" pake .clip(). Ini lebih bagus daripada ngehapus data."
   ]
  },
  {
   "cell_type": "code",
   "execution_count": 15,
   "id": "2adf3089-cef9-461b-a9b3-7e6a6a4aa915",
   "metadata": {},
   "outputs": [
    {
     "name": "stdout",
     "output_type": "stream",
     "text": [
      "### Memulai Proses Data Cleaning ###\n",
      "- Ditemukan 0 missing value.\n",
      "- Ditemukan 0 baris duplikat.\n",
      "- Ditemukan 21 outlier pada kolom 'absences'.\n",
      "Outlier telah diatasi dengan metode Capping.\n"
     ]
    }
   ],
   "source": [
    "# Membuat salinan DataFrame agar data asli tidak berubah\n",
    "df_processed = df.copy()\n",
    "\n",
    "print(\"### Memulai Proses Data Cleaning ###\")\n",
    "\n",
    "# Cek Missing & Duplicate Values\n",
    "print(f\"- Ditemukan {df_processed.isnull().sum().sum()} missing value.\")\n",
    "print(f\"- Ditemukan {df_processed.duplicated().sum()} baris duplikat.\")\n",
    "\n",
    "# Mengatasi Outlier pada kolom 'absences'\n",
    "Q1 = df_processed['absences'].quantile(0.25)\n",
    "Q3 = df_processed['absences'].quantile(0.75)\n",
    "IQR = Q3 - Q1\n",
    "upper_bound = Q3 + 1.5 * IQR\n",
    "outliers_count = len(df_processed[df_processed['absences'] > upper_bound])\n",
    "print(f\"- Ditemukan {outliers_count} outlier pada kolom 'absences'.\")\n",
    "\n",
    "# Mengganti outlier dengan nilai batas atas (Capping)\n",
    "df_processed['absences'] = df_processed['absences'].clip(upper=upper_bound)\n",
    "print(\"Outlier telah diatasi dengan metode Capping.\")"
   ]
  },
  {
   "cell_type": "markdown",
   "id": "e08413f5-9249-4493-bf92-6799ca82e49f",
   "metadata": {},
   "source": [
    "Di sel keempat, kita masuk ke bagian yang sedikit kreatif, yaitu feature engineering. Di sini kita bikin fitur baru total_alcohol dengan cara nggabungin Dalc (alkohol pas hari kerja) dan Walc (alkohol pas weekend). Idenya simpel, informasi gabungan ini mungkin lebih \"ngena\" buat model daripada kalo fiturnya dipisah-pisah."
   ]
  },
  {
   "cell_type": "code",
   "execution_count": 16,
   "id": "a3ad604f-99fe-4426-bb9f-b03f17f3b20a",
   "metadata": {},
   "outputs": [
    {
     "name": "stdout",
     "output_type": "stream",
     "text": [
      "### Memulai Feature Engineering ###\n",
      "Fitur baru 'total_alcohol' berhasil dibuat.\n"
     ]
    }
   ],
   "source": [
    "print(\"### Memulai Feature Engineering ###\")\n",
    "\n",
    "# Membuat fitur baru 'total_alcohol' dari penjumlahan Dalc dan Walc\n",
    "df_processed['total_alcohol'] = df_processed['Dalc'] + df_processed['Walc']\n",
    "\n",
    "print(\"Fitur baru 'total_alcohol' berhasil dibuat.\")"
   ]
  },
  {
   "cell_type": "markdown",
   "id": "af166127-847a-4357-8789-0edfee9654a4",
   "metadata": {},
   "source": [
    "Lanjut di sel kelima, kita ngelakuin standarisasi. Neural network itu sensitif banget sama skala angka. Bayangin aja, fitur age (15-22) sama absences (0-15) kan skalanya beda. Kalo dibiarin, model bisa ngira fitur yang angkanya lebih gede itu lebih penting. Nah, StandardScaler ini tugasnya nyamain \"level\" semua fitur numerik, jadi rata-ratanya 0 dan standar deviasinya 1."
   ]
  },
  {
   "cell_type": "code",
   "execution_count": 17,
   "id": "5d0444fe-b8c8-4c6f-b567-e98da31eeb69",
   "metadata": {},
   "outputs": [
    {
     "name": "stdout",
     "output_type": "stream",
     "text": [
      "### Memulai Standarisasi Kolom Numerik ###\n",
      "Semua kolom numerik telah distandarisasi.\n"
     ]
    }
   ],
   "source": [
    "print(\"### Memulai Standarisasi Kolom Numerik ###\")\n",
    "\n",
    "# Pilih semua kolom numerik (termasuk fitur baru)\n",
    "numeric_cols = df_processed.select_dtypes(include=np.number).columns\n",
    "scaler = StandardScaler()\n",
    "\n",
    "# Terapkan standarisasi\n",
    "df_processed[numeric_cols] = scaler.fit_transform(df_processed[numeric_cols])\n",
    "\n",
    "print(\"Semua kolom numerik telah distandarisasi.\")"
   ]
  },
  {
   "cell_type": "markdown",
   "id": "af13809d-9b90-45c3-be4b-30a12f6a80c7",
   "metadata": {},
   "source": [
    "Terus di sel keenam, kita ngurusin data teks. Model mana ngerti sama huruf kaya 'M' atau 'F'? Makanya kita pake One-Hot Encoding lewat pd.get_dummies(). Intinya, kita ubah data-data teks itu jadi kolom-kolom baru yang isinya cuma angka 0 dan 1, biar model bisa ngerti."
   ]
  },
  {
   "cell_type": "code",
   "execution_count": 18,
   "id": "0f16d0c4-26de-4884-8c17-d4ad3c3e23fd",
   "metadata": {},
   "outputs": [
    {
     "name": "stdout",
     "output_type": "stream",
     "text": [
      "### Memulai Encoding Kolom Kategorikal ###\n",
      "Kolom kategorikal telah di-encode. Jumlah total kolom sekarang: 43\n"
     ]
    }
   ],
   "source": [
    "print(\"### Memulai Encoding Kolom Kategorikal ###\")\n",
    "\n",
    "# Pilih semua kolom non-numerik (object)\n",
    "categorical_cols = df_processed.select_dtypes(include=['object']).columns\n",
    "\n",
    "# Lakukan One-Hot Encoding\n",
    "df_processed = pd.get_dummies(df_processed, columns=categorical_cols, drop_first=True)\n",
    "\n",
    "print(f\"Kolom kategorikal telah di-encode. Jumlah total kolom sekarang: {df_processed.shape[1]}\")"
   ]
  },
  {
   "cell_type": "markdown",
   "id": "987f0138-9fc0-4737-b37a-e7037ba173eb",
   "metadata": {},
   "source": [
    "Setelah semua data siap tempur, di sel ketujuh kita lakuin langkah paling krusial: splitting data. Data kita bagi jadi dua: data training (80%) buat \"ngelatih\" model, dan data testing (20%) yang kita simpen rapi buat \"ujian akhir\" modelnya. Ini penting banget biar kita bisa nilai performa model secara objektif."
   ]
  },
  {
   "cell_type": "code",
   "execution_count": 19,
   "id": "a16f3539-a3d0-4eb9-a8dd-b9434f77ed92",
   "metadata": {},
   "outputs": [
    {
     "name": "stdout",
     "output_type": "stream",
     "text": [
      "### Memulai Pembagian Data ###\n",
      "Data telah dibagi menjadi data training dan testing.\n",
      "   -> Ukuran data training (X_train): (519, 42)\n",
      "   -> Ukuran data testing (X_test)  : (130, 42)\n"
     ]
    }
   ],
   "source": [
    "print(\"### Memulai Pembagian Data ###\")\n",
    "\n",
    "# Tentukan X (fitur) dan y (target)\n",
    "X = df_processed.drop('G3', axis=1)\n",
    "y = df_processed['G3']\n",
    "\n",
    "# Bagi data: 80% untuk training, 20% untuk testing\n",
    "X_train, X_test, y_train, y_test = train_test_split(X, y, test_size=0.2, random_state=42)\n",
    "\n",
    "print(\"Data telah dibagi menjadi data training dan testing.\")\n",
    "print(f\"   -> Ukuran data training (X_train): {X_train.shape}\")\n",
    "print(f\"   -> Ukuran data testing (X_test)  : {X_test.shape}\")"
   ]
  },
  {
   "cell_type": "markdown",
   "id": "3af7b64c-5a0a-441b-9c72-16c696ac7131",
   "metadata": {},
   "source": [
    "Di sel kedelapan, kita mulai masuk ke bagian serunya dari Modul 6: ngerancang arsitektur DNN. Kita pake model Sequential dari Keras, jadi kita bisa nambahin layer satu per satu kaya nyusun lego. Arsitekturnya simpel: 1 input layer, 3 hidden layer pake aktivasi relu (ini keren buat nangkep pola-pola rumit), dan 1 output layer. Karena kita mau nebak angka (regresi), output layer-nya cuma butuh 1 neuron aja."
   ]
  },
  {
   "cell_type": "code",
   "execution_count": 20,
   "id": "64f1a33f-e869-4c9d-b81d-48386285744f",
   "metadata": {},
   "outputs": [
    {
     "name": "stdout",
     "output_type": "stream",
     "text": [
      "### Membangun Arsitektur Model DNN ###\n"
     ]
    },
    {
     "data": {
      "text/html": [
       "<pre style=\"white-space:pre;overflow-x:auto;line-height:normal;font-family:Menlo,'DejaVu Sans Mono',consolas,'Courier New',monospace\"><span style=\"font-weight: bold\">Model: \"sequential\"</span>\n",
       "</pre>\n"
      ],
      "text/plain": [
       "\u001b[1mModel: \"sequential\"\u001b[0m\n"
      ]
     },
     "metadata": {},
     "output_type": "display_data"
    },
    {
     "data": {
      "text/html": [
       "<pre style=\"white-space:pre;overflow-x:auto;line-height:normal;font-family:Menlo,'DejaVu Sans Mono',consolas,'Courier New',monospace\">┏━━━━━━━━━━━━━━━━━━━━━━━━━━━━━━━━━━━━━━┳━━━━━━━━━━━━━━━━━━━━━━━━━━━━━┳━━━━━━━━━━━━━━━━━┓\n",
       "┃<span style=\"font-weight: bold\"> Layer (type)                         </span>┃<span style=\"font-weight: bold\"> Output Shape                </span>┃<span style=\"font-weight: bold\">         Param # </span>┃\n",
       "┡━━━━━━━━━━━━━━━━━━━━━━━━━━━━━━━━━━━━━━╇━━━━━━━━━━━━━━━━━━━━━━━━━━━━━╇━━━━━━━━━━━━━━━━━┩\n",
       "│ dense (<span style=\"color: #0087ff; text-decoration-color: #0087ff\">Dense</span>)                        │ (<span style=\"color: #00d7ff; text-decoration-color: #00d7ff\">None</span>, <span style=\"color: #00af00; text-decoration-color: #00af00\">128</span>)                 │           <span style=\"color: #00af00; text-decoration-color: #00af00\">5,504</span> │\n",
       "├──────────────────────────────────────┼─────────────────────────────┼─────────────────┤\n",
       "│ dense_1 (<span style=\"color: #0087ff; text-decoration-color: #0087ff\">Dense</span>)                      │ (<span style=\"color: #00d7ff; text-decoration-color: #00d7ff\">None</span>, <span style=\"color: #00af00; text-decoration-color: #00af00\">64</span>)                  │           <span style=\"color: #00af00; text-decoration-color: #00af00\">8,256</span> │\n",
       "├──────────────────────────────────────┼─────────────────────────────┼─────────────────┤\n",
       "│ dense_2 (<span style=\"color: #0087ff; text-decoration-color: #0087ff\">Dense</span>)                      │ (<span style=\"color: #00d7ff; text-decoration-color: #00d7ff\">None</span>, <span style=\"color: #00af00; text-decoration-color: #00af00\">32</span>)                  │           <span style=\"color: #00af00; text-decoration-color: #00af00\">2,080</span> │\n",
       "├──────────────────────────────────────┼─────────────────────────────┼─────────────────┤\n",
       "│ dense_3 (<span style=\"color: #0087ff; text-decoration-color: #0087ff\">Dense</span>)                      │ (<span style=\"color: #00d7ff; text-decoration-color: #00d7ff\">None</span>, <span style=\"color: #00af00; text-decoration-color: #00af00\">1</span>)                   │              <span style=\"color: #00af00; text-decoration-color: #00af00\">33</span> │\n",
       "└──────────────────────────────────────┴─────────────────────────────┴─────────────────┘\n",
       "</pre>\n"
      ],
      "text/plain": [
       "┏━━━━━━━━━━━━━━━━━━━━━━━━━━━━━━━━━━━━━━┳━━━━━━━━━━━━━━━━━━━━━━━━━━━━━┳━━━━━━━━━━━━━━━━━┓\n",
       "┃\u001b[1m \u001b[0m\u001b[1mLayer (type)                        \u001b[0m\u001b[1m \u001b[0m┃\u001b[1m \u001b[0m\u001b[1mOutput Shape               \u001b[0m\u001b[1m \u001b[0m┃\u001b[1m \u001b[0m\u001b[1m        Param #\u001b[0m\u001b[1m \u001b[0m┃\n",
       "┡━━━━━━━━━━━━━━━━━━━━━━━━━━━━━━━━━━━━━━╇━━━━━━━━━━━━━━━━━━━━━━━━━━━━━╇━━━━━━━━━━━━━━━━━┩\n",
       "│ dense (\u001b[38;5;33mDense\u001b[0m)                        │ (\u001b[38;5;45mNone\u001b[0m, \u001b[38;5;34m128\u001b[0m)                 │           \u001b[38;5;34m5,504\u001b[0m │\n",
       "├──────────────────────────────────────┼─────────────────────────────┼─────────────────┤\n",
       "│ dense_1 (\u001b[38;5;33mDense\u001b[0m)                      │ (\u001b[38;5;45mNone\u001b[0m, \u001b[38;5;34m64\u001b[0m)                  │           \u001b[38;5;34m8,256\u001b[0m │\n",
       "├──────────────────────────────────────┼─────────────────────────────┼─────────────────┤\n",
       "│ dense_2 (\u001b[38;5;33mDense\u001b[0m)                      │ (\u001b[38;5;45mNone\u001b[0m, \u001b[38;5;34m32\u001b[0m)                  │           \u001b[38;5;34m2,080\u001b[0m │\n",
       "├──────────────────────────────────────┼─────────────────────────────┼─────────────────┤\n",
       "│ dense_3 (\u001b[38;5;33mDense\u001b[0m)                      │ (\u001b[38;5;45mNone\u001b[0m, \u001b[38;5;34m1\u001b[0m)                   │              \u001b[38;5;34m33\u001b[0m │\n",
       "└──────────────────────────────────────┴─────────────────────────────┴─────────────────┘\n"
      ]
     },
     "metadata": {},
     "output_type": "display_data"
    },
    {
     "data": {
      "text/html": [
       "<pre style=\"white-space:pre;overflow-x:auto;line-height:normal;font-family:Menlo,'DejaVu Sans Mono',consolas,'Courier New',monospace\"><span style=\"font-weight: bold\"> Total params: </span><span style=\"color: #00af00; text-decoration-color: #00af00\">15,873</span> (62.00 KB)\n",
       "</pre>\n"
      ],
      "text/plain": [
       "\u001b[1m Total params: \u001b[0m\u001b[38;5;34m15,873\u001b[0m (62.00 KB)\n"
      ]
     },
     "metadata": {},
     "output_type": "display_data"
    },
    {
     "data": {
      "text/html": [
       "<pre style=\"white-space:pre;overflow-x:auto;line-height:normal;font-family:Menlo,'DejaVu Sans Mono',consolas,'Courier New',monospace\"><span style=\"font-weight: bold\"> Trainable params: </span><span style=\"color: #00af00; text-decoration-color: #00af00\">15,873</span> (62.00 KB)\n",
       "</pre>\n"
      ],
      "text/plain": [
       "\u001b[1m Trainable params: \u001b[0m\u001b[38;5;34m15,873\u001b[0m (62.00 KB)\n"
      ]
     },
     "metadata": {},
     "output_type": "display_data"
    },
    {
     "data": {
      "text/html": [
       "<pre style=\"white-space:pre;overflow-x:auto;line-height:normal;font-family:Menlo,'DejaVu Sans Mono',consolas,'Courier New',monospace\"><span style=\"font-weight: bold\"> Non-trainable params: </span><span style=\"color: #00af00; text-decoration-color: #00af00\">0</span> (0.00 B)\n",
       "</pre>\n"
      ],
      "text/plain": [
       "\u001b[1m Non-trainable params: \u001b[0m\u001b[38;5;34m0\u001b[0m (0.00 B)\n"
      ]
     },
     "metadata": {},
     "output_type": "display_data"
    }
   ],
   "source": [
    "print(\"### Membangun Arsitektur Model DNN ###\")\n",
    "\n",
    "# Membuat model Sequential\n",
    "model = Sequential()\n",
    "\n",
    "# Menambahkan layer-layer\n",
    "model.add(Dense(128, input_dim=X_train.shape[1], activation='relu')) # Input & Hidden Layer 1\n",
    "model.add(Dense(64, activation='relu'))                             # Hidden Layer 2\n",
    "model.add(Dense(32, activation='relu'))                             # Hidden Layer 3\n",
    "model.add(Dense(1))                                                 # Output Layer (untuk regresi)\n",
    "\n",
    "# Menampilkan ringkasan arsitektur\n",
    "model.summary()"
   ]
  },
  {
   "cell_type": "markdown",
   "id": "03646caf-e4f7-4871-b858-6fb979b32a65",
   "metadata": {},
   "source": [
    "Setelah arsitekturnya jadi, di sel kesembilan kita compile modelnya. Ini kaya ngasih \"aturan main\" buat modelnya belajar. optimizer='adam' itu cara belajarnya yang udah terbukti efektif, sementara loss='mean_absolute_error' itu cara kita ngukur seberapa parah kesalahan tebakan model. Tujuan kita selama training nanti adalah bikin nilai loss ini sekecil mungkin."
   ]
  },
  {
   "cell_type": "code",
   "execution_count": 23,
   "id": "847f489c-b188-4104-99e0-0343674c5305",
   "metadata": {},
   "outputs": [
    {
     "name": "stdout",
     "output_type": "stream",
     "text": [
      "### Melakukan Compile Model ###\n",
      "Model berhasil di-compile dan siap untuk dilatih.\n"
     ]
    }
   ],
   "source": [
    "print(\"### Melakukan Compile Model ###\")\n",
    "\n",
    "model.compile(optimizer='adam', \n",
    "              loss='mean_absolute_error', \n",
    "              metrics=['mean_squared_error'])\n",
    "\n",
    "print(\"Model berhasil di-compile dan siap untuk dilatih.\")"
   ]
  },
  {
   "cell_type": "markdown",
   "id": "19988dfb-da30-4d45-ad70-7ea0569fca18",
   "metadata": {},
   "source": [
    "Di sel kesepuluh, proses belajar atau training beneran dimulai pake model.fit(). Model bakal \"melihat\" data training berulang-ulang sebanyak 50 epoch. Di setiap epoch, model bakal terus-terusan nyesuain \"pemahamannya\" biar tebakannya makin akurat."
   ]
  },
  {
   "cell_type": "code",
   "execution_count": 25,
   "id": "e971a62b-c511-4f36-87d5-e389ba133668",
   "metadata": {},
   "outputs": [
    {
     "name": "stdout",
     "output_type": "stream",
     "text": [
      "### Memulai Proses Training Model... ###\n",
      "Epoch 1/50\n",
      "\u001b[1m13/13\u001b[0m \u001b[32m━━━━━━━━━━━━━━━━━━━━\u001b[0m\u001b[37m\u001b[0m \u001b[1m0s\u001b[0m 8ms/step - loss: 0.0382 - mean_squared_error: 0.0027 - val_loss: 0.2607 - val_mean_squared_error: 0.1179\n",
      "Epoch 2/50\n",
      "\u001b[1m13/13\u001b[0m \u001b[32m━━━━━━━━━━━━━━━━━━━━\u001b[0m\u001b[37m\u001b[0m \u001b[1m0s\u001b[0m 6ms/step - loss: 0.0432 - mean_squared_error: 0.0036 - val_loss: 0.2592 - val_mean_squared_error: 0.1174\n",
      "Epoch 3/50\n",
      "\u001b[1m13/13\u001b[0m \u001b[32m━━━━━━━━━━━━━━━━━━━━\u001b[0m\u001b[37m\u001b[0m \u001b[1m0s\u001b[0m 5ms/step - loss: 0.0461 - mean_squared_error: 0.0039 - val_loss: 0.2586 - val_mean_squared_error: 0.1141\n",
      "Epoch 4/50\n",
      "\u001b[1m13/13\u001b[0m \u001b[32m━━━━━━━━━━━━━━━━━━━━\u001b[0m\u001b[37m\u001b[0m \u001b[1m0s\u001b[0m 5ms/step - loss: 0.0403 - mean_squared_error: 0.0029 - val_loss: 0.2603 - val_mean_squared_error: 0.1199\n",
      "Epoch 5/50\n",
      "\u001b[1m13/13\u001b[0m \u001b[32m━━━━━━━━━━━━━━━━━━━━\u001b[0m\u001b[37m\u001b[0m \u001b[1m0s\u001b[0m 5ms/step - loss: 0.0380 - mean_squared_error: 0.0031 - val_loss: 0.2603 - val_mean_squared_error: 0.1173\n",
      "Epoch 6/50\n",
      "\u001b[1m13/13\u001b[0m \u001b[32m━━━━━━━━━━━━━━━━━━━━\u001b[0m\u001b[37m\u001b[0m \u001b[1m0s\u001b[0m 5ms/step - loss: 0.0321 - mean_squared_error: 0.0019 - val_loss: 0.2574 - val_mean_squared_error: 0.1148\n",
      "Epoch 7/50\n",
      "\u001b[1m13/13\u001b[0m \u001b[32m━━━━━━━━━━━━━━━━━━━━\u001b[0m\u001b[37m\u001b[0m \u001b[1m0s\u001b[0m 5ms/step - loss: 0.0346 - mean_squared_error: 0.0024 - val_loss: 0.2631 - val_mean_squared_error: 0.1215\n",
      "Epoch 8/50\n",
      "\u001b[1m13/13\u001b[0m \u001b[32m━━━━━━━━━━━━━━━━━━━━\u001b[0m\u001b[37m\u001b[0m \u001b[1m0s\u001b[0m 6ms/step - loss: 0.0303 - mean_squared_error: 0.0018 - val_loss: 0.2562 - val_mean_squared_error: 0.1156\n",
      "Epoch 9/50\n",
      "\u001b[1m13/13\u001b[0m \u001b[32m━━━━━━━━━━━━━━━━━━━━\u001b[0m\u001b[37m\u001b[0m \u001b[1m0s\u001b[0m 5ms/step - loss: 0.0373 - mean_squared_error: 0.0023 - val_loss: 0.2531 - val_mean_squared_error: 0.1123\n",
      "Epoch 10/50\n",
      "\u001b[1m13/13\u001b[0m \u001b[32m━━━━━━━━━━━━━━━━━━━━\u001b[0m\u001b[37m\u001b[0m \u001b[1m0s\u001b[0m 5ms/step - loss: 0.0435 - mean_squared_error: 0.0038 - val_loss: 0.2634 - val_mean_squared_error: 0.1247\n",
      "Epoch 11/50\n",
      "\u001b[1m13/13\u001b[0m \u001b[32m━━━━━━━━━━━━━━━━━━━━\u001b[0m\u001b[37m\u001b[0m \u001b[1m0s\u001b[0m 5ms/step - loss: 0.0425 - mean_squared_error: 0.0035 - val_loss: 0.2603 - val_mean_squared_error: 0.1203\n",
      "Epoch 12/50\n",
      "\u001b[1m13/13\u001b[0m \u001b[32m━━━━━━━━━━━━━━━━━━━━\u001b[0m\u001b[37m\u001b[0m \u001b[1m0s\u001b[0m 5ms/step - loss: 0.0393 - mean_squared_error: 0.0030 - val_loss: 0.2613 - val_mean_squared_error: 0.1177\n",
      "Epoch 13/50\n",
      "\u001b[1m13/13\u001b[0m \u001b[32m━━━━━━━━━━━━━━━━━━━━\u001b[0m\u001b[37m\u001b[0m \u001b[1m0s\u001b[0m 5ms/step - loss: 0.0333 - mean_squared_error: 0.0021 - val_loss: 0.2586 - val_mean_squared_error: 0.1169\n",
      "Epoch 14/50\n",
      "\u001b[1m13/13\u001b[0m \u001b[32m━━━━━━━━━━━━━━━━━━━━\u001b[0m\u001b[37m\u001b[0m \u001b[1m0s\u001b[0m 5ms/step - loss: 0.0311 - mean_squared_error: 0.0016 - val_loss: 0.2539 - val_mean_squared_error: 0.1145\n",
      "Epoch 15/50\n",
      "\u001b[1m13/13\u001b[0m \u001b[32m━━━━━━━━━━━━━━━━━━━━\u001b[0m\u001b[37m\u001b[0m \u001b[1m0s\u001b[0m 5ms/step - loss: 0.0317 - mean_squared_error: 0.0021 - val_loss: 0.2533 - val_mean_squared_error: 0.1166\n",
      "Epoch 16/50\n",
      "\u001b[1m13/13\u001b[0m \u001b[32m━━━━━━━━━━━━━━━━━━━━\u001b[0m\u001b[37m\u001b[0m \u001b[1m0s\u001b[0m 5ms/step - loss: 0.0330 - mean_squared_error: 0.0019 - val_loss: 0.2517 - val_mean_squared_error: 0.1117\n",
      "Epoch 17/50\n",
      "\u001b[1m13/13\u001b[0m \u001b[32m━━━━━━━━━━━━━━━━━━━━\u001b[0m\u001b[37m\u001b[0m \u001b[1m0s\u001b[0m 5ms/step - loss: 0.0320 - mean_squared_error: 0.0020 - val_loss: 0.2579 - val_mean_squared_error: 0.1161\n",
      "Epoch 18/50\n",
      "\u001b[1m13/13\u001b[0m \u001b[32m━━━━━━━━━━━━━━━━━━━━\u001b[0m\u001b[37m\u001b[0m \u001b[1m0s\u001b[0m 5ms/step - loss: 0.0319 - mean_squared_error: 0.0019 - val_loss: 0.2574 - val_mean_squared_error: 0.1184\n",
      "Epoch 19/50\n",
      "\u001b[1m13/13\u001b[0m \u001b[32m━━━━━━━━━━━━━━━━━━━━\u001b[0m\u001b[37m\u001b[0m \u001b[1m0s\u001b[0m 5ms/step - loss: 0.0389 - mean_squared_error: 0.0027 - val_loss: 0.2677 - val_mean_squared_error: 0.1247\n",
      "Epoch 20/50\n",
      "\u001b[1m13/13\u001b[0m \u001b[32m━━━━━━━━━━━━━━━━━━━━\u001b[0m\u001b[37m\u001b[0m \u001b[1m0s\u001b[0m 5ms/step - loss: 0.0425 - mean_squared_error: 0.0036 - val_loss: 0.2600 - val_mean_squared_error: 0.1160\n",
      "Epoch 21/50\n",
      "\u001b[1m13/13\u001b[0m \u001b[32m━━━━━━━━━━━━━━━━━━━━\u001b[0m\u001b[37m\u001b[0m \u001b[1m0s\u001b[0m 5ms/step - loss: 0.0398 - mean_squared_error: 0.0030 - val_loss: 0.2603 - val_mean_squared_error: 0.1208\n",
      "Epoch 22/50\n",
      "\u001b[1m13/13\u001b[0m \u001b[32m━━━━━━━━━━━━━━━━━━━━\u001b[0m\u001b[37m\u001b[0m \u001b[1m0s\u001b[0m 5ms/step - loss: 0.0407 - mean_squared_error: 0.0032 - val_loss: 0.2587 - val_mean_squared_error: 0.1214\n",
      "Epoch 23/50\n",
      "\u001b[1m13/13\u001b[0m \u001b[32m━━━━━━━━━━━━━━━━━━━━\u001b[0m\u001b[37m\u001b[0m \u001b[1m0s\u001b[0m 5ms/step - loss: 0.0373 - mean_squared_error: 0.0026 - val_loss: 0.2598 - val_mean_squared_error: 0.1253\n",
      "Epoch 24/50\n",
      "\u001b[1m13/13\u001b[0m \u001b[32m━━━━━━━━━━━━━━━━━━━━\u001b[0m\u001b[37m\u001b[0m \u001b[1m0s\u001b[0m 5ms/step - loss: 0.0324 - mean_squared_error: 0.0019 - val_loss: 0.2583 - val_mean_squared_error: 0.1225\n",
      "Epoch 25/50\n",
      "\u001b[1m13/13\u001b[0m \u001b[32m━━━━━━━━━━━━━━━━━━━━\u001b[0m\u001b[37m\u001b[0m \u001b[1m0s\u001b[0m 5ms/step - loss: 0.0323 - mean_squared_error: 0.0020 - val_loss: 0.2557 - val_mean_squared_error: 0.1189\n",
      "Epoch 26/50\n",
      "\u001b[1m13/13\u001b[0m \u001b[32m━━━━━━━━━━━━━━━━━━━━\u001b[0m\u001b[37m\u001b[0m \u001b[1m0s\u001b[0m 5ms/step - loss: 0.0309 - mean_squared_error: 0.0019 - val_loss: 0.2585 - val_mean_squared_error: 0.1169\n",
      "Epoch 27/50\n",
      "\u001b[1m13/13\u001b[0m \u001b[32m━━━━━━━━━━━━━━━━━━━━\u001b[0m\u001b[37m\u001b[0m \u001b[1m0s\u001b[0m 5ms/step - loss: 0.0300 - mean_squared_error: 0.0016 - val_loss: 0.2583 - val_mean_squared_error: 0.1186\n",
      "Epoch 28/50\n",
      "\u001b[1m13/13\u001b[0m \u001b[32m━━━━━━━━━━━━━━━━━━━━\u001b[0m\u001b[37m\u001b[0m \u001b[1m0s\u001b[0m 5ms/step - loss: 0.0303 - mean_squared_error: 0.0017 - val_loss: 0.2615 - val_mean_squared_error: 0.1209\n",
      "Epoch 29/50\n",
      "\u001b[1m13/13\u001b[0m \u001b[32m━━━━━━━━━━━━━━━━━━━━\u001b[0m\u001b[37m\u001b[0m \u001b[1m0s\u001b[0m 5ms/step - loss: 0.0344 - mean_squared_error: 0.0021 - val_loss: 0.2554 - val_mean_squared_error: 0.1117\n",
      "Epoch 30/50\n",
      "\u001b[1m13/13\u001b[0m \u001b[32m━━━━━━━━━━━━━━━━━━━━\u001b[0m\u001b[37m\u001b[0m \u001b[1m0s\u001b[0m 5ms/step - loss: 0.0299 - mean_squared_error: 0.0016 - val_loss: 0.2529 - val_mean_squared_error: 0.1128\n",
      "Epoch 31/50\n",
      "\u001b[1m13/13\u001b[0m \u001b[32m━━━━━━━━━━━━━━━━━━━━\u001b[0m\u001b[37m\u001b[0m \u001b[1m0s\u001b[0m 5ms/step - loss: 0.0328 - mean_squared_error: 0.0021 - val_loss: 0.2584 - val_mean_squared_error: 0.1197\n",
      "Epoch 32/50\n",
      "\u001b[1m13/13\u001b[0m \u001b[32m━━━━━━━━━━━━━━━━━━━━\u001b[0m\u001b[37m\u001b[0m \u001b[1m0s\u001b[0m 5ms/step - loss: 0.0349 - mean_squared_error: 0.0020 - val_loss: 0.2519 - val_mean_squared_error: 0.1176\n",
      "Epoch 33/50\n",
      "\u001b[1m13/13\u001b[0m \u001b[32m━━━━━━━━━━━━━━━━━━━━\u001b[0m\u001b[37m\u001b[0m \u001b[1m0s\u001b[0m 5ms/step - loss: 0.0371 - mean_squared_error: 0.0026 - val_loss: 0.2595 - val_mean_squared_error: 0.1182\n",
      "Epoch 34/50\n",
      "\u001b[1m13/13\u001b[0m \u001b[32m━━━━━━━━━━━━━━━━━━━━\u001b[0m\u001b[37m\u001b[0m \u001b[1m0s\u001b[0m 5ms/step - loss: 0.0428 - mean_squared_error: 0.0036 - val_loss: 0.2518 - val_mean_squared_error: 0.1159\n",
      "Epoch 35/50\n",
      "\u001b[1m13/13\u001b[0m \u001b[32m━━━━━━━━━━━━━━━━━━━━\u001b[0m\u001b[37m\u001b[0m \u001b[1m0s\u001b[0m 5ms/step - loss: 0.0405 - mean_squared_error: 0.0031 - val_loss: 0.2633 - val_mean_squared_error: 0.1186\n",
      "Epoch 36/50\n",
      "\u001b[1m13/13\u001b[0m \u001b[32m━━━━━━━━━━━━━━━━━━━━\u001b[0m\u001b[37m\u001b[0m \u001b[1m0s\u001b[0m 5ms/step - loss: 0.0363 - mean_squared_error: 0.0026 - val_loss: 0.2546 - val_mean_squared_error: 0.1117\n",
      "Epoch 37/50\n",
      "\u001b[1m13/13\u001b[0m \u001b[32m━━━━━━━━━━━━━━━━━━━━\u001b[0m\u001b[37m\u001b[0m \u001b[1m0s\u001b[0m 5ms/step - loss: 0.0296 - mean_squared_error: 0.0016 - val_loss: 0.2574 - val_mean_squared_error: 0.1159\n",
      "Epoch 38/50\n",
      "\u001b[1m13/13\u001b[0m \u001b[32m━━━━━━━━━━━━━━━━━━━━\u001b[0m\u001b[37m\u001b[0m \u001b[1m0s\u001b[0m 5ms/step - loss: 0.0295 - mean_squared_error: 0.0016 - val_loss: 0.2577 - val_mean_squared_error: 0.1149\n",
      "Epoch 39/50\n",
      "\u001b[1m13/13\u001b[0m \u001b[32m━━━━━━━━━━━━━━━━━━━━\u001b[0m\u001b[37m\u001b[0m \u001b[1m0s\u001b[0m 5ms/step - loss: 0.0290 - mean_squared_error: 0.0016 - val_loss: 0.2609 - val_mean_squared_error: 0.1130\n",
      "Epoch 40/50\n",
      "\u001b[1m13/13\u001b[0m \u001b[32m━━━━━━━━━━━━━━━━━━━━\u001b[0m\u001b[37m\u001b[0m \u001b[1m0s\u001b[0m 5ms/step - loss: 0.0410 - mean_squared_error: 0.0029 - val_loss: 0.2514 - val_mean_squared_error: 0.1126\n",
      "Epoch 41/50\n",
      "\u001b[1m13/13\u001b[0m \u001b[32m━━━━━━━━━━━━━━━━━━━━\u001b[0m\u001b[37m\u001b[0m \u001b[1m0s\u001b[0m 5ms/step - loss: 0.0435 - mean_squared_error: 0.0034 - val_loss: 0.2711 - val_mean_squared_error: 0.1243\n",
      "Epoch 42/50\n",
      "\u001b[1m13/13\u001b[0m \u001b[32m━━━━━━━━━━━━━━━━━━━━\u001b[0m\u001b[37m\u001b[0m \u001b[1m0s\u001b[0m 5ms/step - loss: 0.0434 - mean_squared_error: 0.0036 - val_loss: 0.2544 - val_mean_squared_error: 0.1129\n",
      "Epoch 43/50\n",
      "\u001b[1m13/13\u001b[0m \u001b[32m━━━━━━━━━━━━━━━━━━━━\u001b[0m\u001b[37m\u001b[0m \u001b[1m0s\u001b[0m 5ms/step - loss: 0.0419 - mean_squared_error: 0.0037 - val_loss: 0.2669 - val_mean_squared_error: 0.1252\n",
      "Epoch 44/50\n",
      "\u001b[1m13/13\u001b[0m \u001b[32m━━━━━━━━━━━━━━━━━━━━\u001b[0m\u001b[37m\u001b[0m \u001b[1m0s\u001b[0m 5ms/step - loss: 0.0314 - mean_squared_error: 0.0019 - val_loss: 0.2531 - val_mean_squared_error: 0.1079\n",
      "Epoch 45/50\n",
      "\u001b[1m13/13\u001b[0m \u001b[32m━━━━━━━━━━━━━━━━━━━━\u001b[0m\u001b[37m\u001b[0m \u001b[1m0s\u001b[0m 5ms/step - loss: 0.0319 - mean_squared_error: 0.0022 - val_loss: 0.2547 - val_mean_squared_error: 0.1120\n",
      "Epoch 46/50\n",
      "\u001b[1m13/13\u001b[0m \u001b[32m━━━━━━━━━━━━━━━━━━━━\u001b[0m\u001b[37m\u001b[0m \u001b[1m0s\u001b[0m 5ms/step - loss: 0.0370 - mean_squared_error: 0.0026 - val_loss: 0.2502 - val_mean_squared_error: 0.1102\n",
      "Epoch 47/50\n",
      "\u001b[1m13/13\u001b[0m \u001b[32m━━━━━━━━━━━━━━━━━━━━\u001b[0m\u001b[37m\u001b[0m \u001b[1m0s\u001b[0m 5ms/step - loss: 0.0407 - mean_squared_error: 0.0030 - val_loss: 0.2517 - val_mean_squared_error: 0.1118\n",
      "Epoch 48/50\n",
      "\u001b[1m13/13\u001b[0m \u001b[32m━━━━━━━━━━━━━━━━━━━━\u001b[0m\u001b[37m\u001b[0m \u001b[1m0s\u001b[0m 5ms/step - loss: 0.0371 - mean_squared_error: 0.0028 - val_loss: 0.2502 - val_mean_squared_error: 0.1102\n",
      "Epoch 49/50\n",
      "\u001b[1m13/13\u001b[0m \u001b[32m━━━━━━━━━━━━━━━━━━━━\u001b[0m\u001b[37m\u001b[0m \u001b[1m0s\u001b[0m 5ms/step - loss: 0.0359 - mean_squared_error: 0.0023 - val_loss: 0.2509 - val_mean_squared_error: 0.1077\n",
      "Epoch 50/50\n",
      "\u001b[1m13/13\u001b[0m \u001b[32m━━━━━━━━━━━━━━━━━━━━\u001b[0m\u001b[37m\u001b[0m \u001b[1m0s\u001b[0m 5ms/step - loss: 0.0405 - mean_squared_error: 0.0030 - val_loss: 0.2477 - val_mean_squared_error: 0.1085\n",
      "\n",
      "Proses training selesai.\n"
     ]
    }
   ],
   "source": [
    "print(\"### Memulai Proses Training Model... ###\")\n",
    "\n",
    "# Melatih model selama 50 epoch\n",
    "history = model.fit(X_train, y_train, \n",
    "                    epochs=50, \n",
    "                    batch_size=32,\n",
    "                    validation_split=0.2, # Gunakan sebagian data train untuk validasi\n",
    "                    verbose=1) # Tampilkan progress bar\n",
    "\n",
    "print(\"\\nProses training selesai.\")"
   ]
  },
  {
   "cell_type": "markdown",
   "id": "9fda2f92-05dd-459f-8193-1e817450bf65",
   "metadata": {},
   "source": [
    "Setelah model \"lulus\" dari training, di sel kesebelas kita kasih dia \"ujian akhir\" pake model.evaluate() di data testing. Dari sini kita dapet nilai MAE (Mean Absolute Error), yang intinya ngasih tau kita rata-rata seberapa jauh tebakan model meleset dari nilai aslinya."
   ]
  },
  {
   "cell_type": "code",
   "execution_count": 11,
   "id": "fef29160-a620-4814-92ba-ed18fbfd2b85",
   "metadata": {},
   "outputs": [
    {
     "name": "stdout",
     "output_type": "stream",
     "text": [
      "### Mengevaluasi Performa Model ###\n",
      "-> Mean Absolute Error (MAE): 0.3009\n",
      "-> Mean Squared Error (MSE) : 0.2023\n",
      "\n",
      "MAE menunjukkan rata-rata seberapa jauh prediksi model dari nilai sebenarnya.\n"
     ]
    }
   ],
   "source": [
    "print(\"### Mengevaluasi Performa Model ###\")\n",
    "\n",
    "# Evaluasi model pada data test\n",
    "loss, mse = model.evaluate(X_test, y_test, verbose=0)\n",
    "\n",
    "print(f\"-> Mean Absolute Error (MAE): {loss:.4f}\")\n",
    "print(f\"-> Mean Squared Error (MSE) : {mse:.4f}\")\n",
    "print(\"\\nMAE menunjukkan rata-rata seberapa jauh prediksi model dari nilai sebenarnya.\")"
   ]
  },
  {
   "cell_type": "markdown",
   "id": "b2394b48-9741-43dc-bc6e-e0747667e50d",
   "metadata": {},
   "source": [
    "Terakhir, di sel dua belas, kita visualisasiin hasilnya. Angka MAE emang penting, tapi gambar seringkali lebih \"bicara\". Kita bikin scatter plot buat ngebandingin nilai asli vs nilai prediksi. Ada garis merah diagonal yang nunjukkin \"prediksi sempurna\". Makin deket titik-titik data kita ke garis merah itu, berarti model kita pinter dan akurat"
   ]
  },
  {
   "cell_type": "code",
   "execution_count": 26,
   "id": "1b5cc5cd-66bc-41bb-b513-089ac01ff815",
   "metadata": {},
   "outputs": [
    {
     "name": "stdout",
     "output_type": "stream",
     "text": [
      "### Visualisasi Hasil Prediksi ###\n",
      "\u001b[1m5/5\u001b[0m \u001b[32m━━━━━━━━━━━━━━━━━━━━\u001b[0m\u001b[37m\u001b[0m \u001b[1m0s\u001b[0m 10ms/step\n"
     ]
    },
    {
     "data": {
      "image/png": "[encoded data removed]",
      "text/plain": [
       "<Figure size 1000x800 with 1 Axes>"
      ]
     },
     "metadata": {},
     "output_type": "display_data"
    }
   ],
   "source": [
    "print(\"### Visualisasi Hasil Prediksi ###\")\n",
    "\n",
    "# Buat prediksi pada data test\n",
    "predictions = model.predict(X_test).flatten()\n",
    "\n",
    "# Buat scatter plot\n",
    "plt.figure(figsize=(10, 8))\n",
    "plt.scatter(y_test, predictions, alpha=0.7)\n",
    "plt.plot([-2.5, 2.5], [-2.5, 2.5], '--', color='red', linewidth=2, label='Garis Prediksi Sempurna')\n",
    "plt.title('Perbandingan Nilai Aktual vs. Hasil Prediksi Model', fontsize=16)\n",
    "plt.xlabel('Nilai Aktual (G3 - Standardized)', fontsize=12)\n",
    "plt.ylabel('Nilai Prediksi (G3 - Standardized)', fontsize=12)\n",
    "plt.grid(True)\n",
    "plt.legend()\n",
    "plt.show()"
   ]
  }
 ],
 "metadata": {
  "kernelspec": {
   "display_name": "Python 3 (ipykernel)",
   "language": "python",
   "name": "python3"
  },
  "language_info": {
   "codemirror_mode": {
    "name": "ipython",
    "version": 3
   },
   "file_extension": ".py",
   "mimetype": "text/x-python",
   "name": "python",
   "nbconvert_exporter": "python",
   "pygments_lexer": "ipython3",
   "version": "3.12.2"
  }
 },
 "nbformat": 4,
 "nbformat_minor": 5
}
